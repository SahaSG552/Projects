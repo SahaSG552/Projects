{
 "cells": [
  {
   "cell_type": "code",
   "execution_count": 24,
   "metadata": {},
   "outputs": [
    {
     "name": "stdout",
     "output_type": "stream",
     "text": [
      "Найдено 3 несоответствия:\n",
      "010101000C2 |                    6 | 7\n",
      "010101000J4 |        TIP-ON черный | Профиль GOLA Золото\n",
      "010101000Z9 | TANDEMBOX Белый шелк | TANDEMBOX ANTARO Белый шелк\n"
     ]
    }
   ],
   "source": [
    "import numpy as np\n",
    "import pandas as pd\n",
    "import xml.etree.ElementTree as ET\n",
    "\n",
    "tree = ET.parse(\"matrix_old.xml\")\n",
    "root = tree.getroot()\n",
    "\n",
    "matrix_dict = {}\n",
    "for i in range(len(root)):\n",
    "    for child in root[i]:\n",
    "        matrix_dict[child.attrib['reckey']] = child.attrib['name']\n",
    "\n",
    "exported_df = pd.read_csv(\"1.csv\", encoding='ANSI')\n",
    "exported_dict = dict(zip(exported_df['Record Key'], exported_df['User Code']))\n",
    "\n",
    "\n",
    "result = []\n",
    "for k, v in exported_dict.items():\n",
    "    if k in matrix_dict:\n",
    "        if str(matrix_dict[k]).lower() != str(v).lower():\n",
    "            result.append((k, matrix_dict[k], v))\n",
    "\n",
    "# count max lenght of strings in each column\n",
    "result_max_len = [max(list(map(len, item))) for item in np.transpose(result)]\n",
    "\n",
    "\n",
    "print(f'Найдено {len(result)} несоответствия:')\n",
    "for item in result:\n",
    "    print(f'{item[0]:{result_max_len[0]}} | {item[1]:>{result_max_len[1]}} | {item[2]}')\n"
   ]
  }
 ],
 "metadata": {
  "kernelspec": {
   "display_name": "Python 3",
   "language": "python",
   "name": "python3"
  },
  "language_info": {
   "codemirror_mode": {
    "name": "ipython",
    "version": 3
   },
   "file_extension": ".py",
   "mimetype": "text/x-python",
   "name": "python",
   "nbconvert_exporter": "python",
   "pygments_lexer": "ipython3",
   "version": "3.12.0"
  }
 },
 "nbformat": 4,
 "nbformat_minor": 2
}
