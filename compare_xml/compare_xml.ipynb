{
 "cells": [
  {
   "cell_type": "code",
   "execution_count": 46,
   "metadata": {},
   "outputs": [],
   "source": [
    "import pandas as pd\n",
    "import xml.etree.ElementTree as ET\n",
    "\n",
    "tree = ET.parse(\"matrix.xml\")\n",
    "root = tree.getroot()\n",
    "\n",
    "matrix_dict = {}\n",
    "for i in range(len(root)):\n",
    "    for child in root[i]:\n",
    "        matrix_dict[child.attrib['reckey']] = child.attrib['name']\n",
    "\n",
    "exported_df = pd.read_csv(\"1.csv\", encoding='ANSI')\n",
    "exported_dict = dict(zip(exported_df['Record Key'], exported_df['User Code']))\n",
    "exported_dict\n",
    "\n",
    "for k, v in exported_dict.items():\n",
    "    if k in matrix_dict:\n",
    "        if matrix_dict[k].lower() != v.lower():\n",
    "            print(f'{k} | {matrix_dict[k]} | {v}')"
   ]
  }
 ],
 "metadata": {
  "kernelspec": {
   "display_name": "Python 3",
   "language": "python",
   "name": "python3"
  },
  "language_info": {
   "codemirror_mode": {
    "name": "ipython",
    "version": 3
   },
   "file_extension": ".py",
   "mimetype": "text/x-python",
   "name": "python",
   "nbconvert_exporter": "python",
   "pygments_lexer": "ipython3",
   "version": "3.12.0"
  }
 },
 "nbformat": 4,
 "nbformat_minor": 2
}
